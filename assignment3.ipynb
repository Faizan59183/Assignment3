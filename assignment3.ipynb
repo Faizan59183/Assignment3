{
 "cells": [
  {
   "cell_type": "code",
   "execution_count": 1,
   "metadata": {},
   "outputs": [
    {
     "name": "stdout",
     "output_type": "stream",
     "text": [
      "Enter First Value: 4\n",
      "Enter Second Value or Power: 3\n",
      "Enter Operator: ^\n",
      "64 Answer\n"
     ]
    }
   ],
   "source": [
    "#1. Make a calculator using Python with addition , subtraction , multiplication ,\n",
    "#division and power.\n",
    "\n",
    "val1=int(input('Enter First Value: '))\n",
    "val2=int(input('Enter Second Value or Power: '))\n",
    "operator=input(\"Enter Operator: \") # operator int mai nhi hoga\n",
    "\n",
    "if operator =='+'or'-'or'/'or'*'or'**':\n",
    "   \n",
    "    if operator == '+':\n",
    "        res=val1 + val2\n",
    "        print(res,'Answer')\n",
    "    elif operator == '-':\n",
    "        res=val1 - val2\n",
    "        print(res,'Answer')\n",
    "    elif operator == '*':\n",
    "        res=val1 * val2\n",
    "        print(res,'Answer')\n",
    "    elif operator == '/':\n",
    "        res=val1 / val2\n",
    "        print(res,'Answer')\n",
    "    elif operator=='**'or'^':\n",
    "        res=val1**val2\n",
    "        print(res,'Answer')\n",
    "    else:\n",
    "        print('Enter Correct Operator')"
   ]
  },
  {
   "cell_type": "code",
   "execution_count": 2,
   "metadata": {},
   "outputs": [
    {
     "name": "stdout",
     "output_type": "stream",
     "text": [
      "Numeric Value : 12\n",
      "Numeric Value : 13.5\n"
     ]
    }
   ],
   "source": [
    "#2. Write a program to check if there is any numeric value in list using for loop\n",
    "arr1=[12,\"3\",\"Ahmed\",13.5]\n",
    "for i in arr1:\n",
    "    if type(i)==int or type(i)==float: \n",
    "        print(\"Numeric Value : \"+str(i))"
   ]
  },
  {
   "cell_type": "code",
   "execution_count": 3,
   "metadata": {},
   "outputs": [
    {
     "name": "stdout",
     "output_type": "stream",
     "text": [
      "dict_keys([1, 2, 3, 4])\n"
     ]
    }
   ],
   "source": [
    "#3. Write a Python script to add a key to a dictionary\n",
    "dic={1:\"Key1\",2:\"Key2\",3:\"Key3\"}\n",
    "dic[4]={\"Key4\"}\n",
    "print(dic.keys())"
   ]
  },
  {
   "cell_type": "code",
   "execution_count": 4,
   "metadata": {},
   "outputs": [
    {
     "name": "stdout",
     "output_type": "stream",
     "text": [
      "sum of items in Dictionary is : 26\n"
     ]
    }
   ],
   "source": [
    "#4. Write a Python program to sum all the numeric items in a dictionary\n",
    "dic1={\"item1\":5, \"item2\":6, \"item3\":3, \"item4\":12}\n",
    "sum1=0\n",
    "for i in dic1.values(): \n",
    "    sum1=sum1+i\n",
    "print(\"sum of items in Dictionary is : \"+str(sum1))"
   ]
  },
  {
   "cell_type": "code",
   "execution_count": 5,
   "metadata": {},
   "outputs": [
    {
     "name": "stdout",
     "output_type": "stream",
     "text": [
      "Duplicate Value:Ahmed\n",
      "Duplicate Value:2\n",
      "Duplicate Value:Ahmed\n",
      "Duplicate Value:2\n"
     ]
    }
   ],
   "source": [
    "#5. Write a program to identify duplicate values from list\n",
    "arr=[\"2\",\"Ahmed\",2,\"Ahmed\",2]\n",
    "for i in arr:\n",
    "    if arr.count(i)>1:\n",
    "        print(\"Duplicate Value:\"+str(i))"
   ]
  },
  {
   "cell_type": "code",
   "execution_count": 7,
   "metadata": {},
   "outputs": [
    {
     "name": "stdout",
     "output_type": "stream",
     "text": [
      "Key already exists\n"
     ]
    }
   ],
   "source": [
    "#6. Write a Python script to check if a given key already exists in a dictionary\n",
    "dic={\"Students\":5,\"Subjects\":7,\"Boys\":4,\"Girls\":3}\n",
    "given_key=\"Boys\"\n",
    "for i in dic.keys():\n",
    "    if i==given_key:\n",
    "        print(\"Key already exists\")\n",
    "        break\n",
    "else:\n",
    "    print(dic.keys())\n",
    "    "
   ]
  },
  {
   "cell_type": "code",
   "execution_count": null,
   "metadata": {},
   "outputs": [],
   "source": []
  }
 ],
 "metadata": {
  "kernelspec": {
   "display_name": "Python 3",
   "language": "python",
   "name": "python3"
  },
  "language_info": {
   "codemirror_mode": {
    "name": "ipython",
    "version": 3
   },
   "file_extension": ".py",
   "mimetype": "text/x-python",
   "name": "python",
   "nbconvert_exporter": "python",
   "pygments_lexer": "ipython3",
   "version": "3.7.4"
  }
 },
 "nbformat": 4,
 "nbformat_minor": 2
}
