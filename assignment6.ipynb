{
 "cells": [
  {
   "cell_type": "code",
   "execution_count": 1,
   "metadata": {},
   "outputs": [
    {
     "ename": "SyntaxError",
     "evalue": "invalid syntax (<ipython-input-1-9fd1d56ec999>, line 1)",
     "output_type": "error",
     "traceback": [
      "\u001b[1;36m  File \u001b[1;32m\"<ipython-input-1-9fd1d56ec999>\"\u001b[1;36m, line \u001b[1;32m1\u001b[0m\n\u001b[1;33m    Question 1:\u001b[0m\n\u001b[1;37m             ^\u001b[0m\n\u001b[1;31mSyntaxError\u001b[0m\u001b[1;31m:\u001b[0m invalid syntax\n"
     ]
    }
   ],
   "source": [
    "Question 1:\n",
    "Define Object Oriented Programming Language?\n",
    "Answer:\n",
    "Object Oriented Programming Language is basically a concept of create or interact with real world applications.\n",
    "\n",
    "Question 2:\n",
    "List down the Benefits of OOP?\n",
    "Answer:\n",
    "    1)Its gives chance to reuse the code through inheritance.\n",
    "      example: We make general or super class of the properties or methods which is same in other classes so that we just \n",
    "            extends the Super class in other class.\n",
    "    2)Its gives flexiblity through polymorphism (By using overloaded and overriding).\n",
    "    3)It is effective for problem solving.\n",
    "    \n",
    "Question 3:\n",
    "Differentiate between function and method?\n",
    "Answer:\n",
    "    Function and method is almost same, The only difference is that:\n",
    "        Function: It can be defined outside the class.\n",
    "        Method: It is define within class.\n",
    "\n",
    "Question 4:\n",
    "Define the following terms:\n",
    "1. Class\n",
    "2. Object\n",
    "3. Attribute\n",
    "4. Behavior\n",
    "Answer:\n",
    "    Class:In object-oriented programming, a class is an extensible program-code-template for creating objects, providing initial\n",
    "        values for state (member variables) and implementations of behavior (member functions or methods). ... In these \n",
    "        languages, a class that creates classes is called a metaclass\n",
    "    Object:In object-oriented programming , a class is a template definition of the method s and variable s in a particular \n",
    "        kind of object . Thus, an object is a specific instance of a class; it contains real values instead of variables.\n",
    "        A class can have subclasses that can inherit all or some of the characteristics of the class\n",
    "    Attribute:Object-oriented programming (OOP) is a programming paradigm based on the concept of \"objects\", which can contain \n",
    "        data, in the form of fields (often known as attributes or properties), and code, in the form of procedures \n",
    "        (often known as methods).\n",
    "    Behaviour:A class's behavior determines how an instance of that class operates; for example, how it will \"react\" if asked \n",
    "        to do something by another class or object or if its internal state changes. Behavior is the only way objects can do \n",
    "        anything to themselves or have anything done to them.\n",
    "        \n",
    "        "
   ]
  },
  {
   "cell_type": "code",
   "execution_count": 10,
   "metadata": {},
   "outputs": [
    {
     "name": "stdout",
     "output_type": "stream",
     "text": [
      "Mehran\n",
      "Grey\n",
      "Toyota\n"
     ]
    }
   ],
   "source": [
    "#Question 5:\n",
    "#Write a code in python in which create a class named it Car which\n",
    "#have 5 attributes such like (model, color and name etc.) and 3\n",
    "#methods. And create 5 object instance from that class.\n",
    "\n",
    "class Car():\n",
    "    def __init__(self,name,model,color,engine,company):\n",
    "        self.name=name\n",
    "        self.model=model\n",
    "        self.color=color\n",
    "        self.engine=engine\n",
    "        self.company=company\n",
    "\n",
    "    def name_color():\n",
    "        print(name +\" has \"+color+ \"color\")\n",
    "    def model():\n",
    "        print(name +\" has \"+model)\n",
    "        \n",
    "    def engine_company():\n",
    "        print(name +\" has \"+engine +\"Engine\")\n",
    "\n",
    "obj1=Car(\"Mehran\",\"2017\",\"Grey\",\" 800 cc 3 cylinders\",\"Suzuki\")\n",
    "print(obj1.name)\n",
    "\n",
    "obj2=Car(\"Corolla\",\"2016\",\"White\",\"1.8-liter 4-cylinder\",\"Toyota\")\n",
    "obj3=Car(\"Corolla\",\"2018\",\"Grey\",\"1.8-liter 4-cylinder\",\"Toyota\")\n",
    "obj4=Car(\"Corolla\",\"2019\",\"Black\",\"1.8-liter 4-cylinder\",\"Toyota\")\n",
    "obj5=Car(\"Corolla\",\"2016\",\"White\",\"1.8-liter 4-cylinder\",\"Toyota\")\n",
    "\n",
    "print(obj3.color)\n",
    "print(obj5.company)\n",
    "        "
   ]
  },
  {
   "cell_type": "code",
   "execution_count": null,
   "metadata": {},
   "outputs": [],
   "source": []
  }
 ],
 "metadata": {
  "kernelspec": {
   "display_name": "Python 3",
   "language": "python",
   "name": "python3"
  },
  "language_info": {
   "codemirror_mode": {
    "name": "ipython",
    "version": 3
   },
   "file_extension": ".py",
   "mimetype": "text/x-python",
   "name": "python",
   "nbconvert_exporter": "python",
   "pygments_lexer": "ipython3",
   "version": "3.7.4"
  }
 },
 "nbformat": 4,
 "nbformat_minor": 2
}
