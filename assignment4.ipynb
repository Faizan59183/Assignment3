{
 "cells": [
  {
   "cell_type": "code",
   "execution_count": 1,
   "metadata": {},
   "outputs": [
    {
     "name": "stdout",
     "output_type": "stream",
     "text": [
      "{'firstName': 'Faizan', 'lastName': 'Khan', 'age': 18, 'city': 'Karachi'}\n",
      "{'firstName': 'Faizan', 'lastName': 'Khan', 'age': 18, 'city': 'Karachi', 'Qualification': 'Matriculation'}\n",
      "Update the qualification to the high academic Level : Intermediate\n",
      "Now checking after deleting the Qualification Key : {'firstName': 'Faizan', 'lastName': 'Khan', 'age': 18, 'city': 'Karachi'}\n"
     ]
    }
   ],
   "source": [
    "#Question1:\n",
    "#Use a dictionary to store information about a person you know. Store their first name, last name, age,\n",
    "#and the city in which they live. You should have keys such as first_name, last_name, age, and city. Print\n",
    "#each piece of information stored in your dictionary. Add a new key value pair about qualification then\n",
    "#update the qualification value to high academic level then delete it.\n",
    "\n",
    "personal_Info={    \n",
    "    \"firstName\":\"Faizan\",\n",
    "    \"lastName\":\"Khan\",\n",
    "    \"age\":18,\n",
    "    \"city\":\"Karachi\",\n",
    "}\n",
    "print(personal_Info)\n",
    "personal_Info[\"Qualification\"]=\"Matriculation\"\n",
    "print(personal_Info)\n",
    "personal_Info[\"Qualification\"]=\"Intermediate\"\n",
    "print(\"Update the qualification to the high academic Level : \"+personal_Info[\"Qualification\"])\n",
    "del personal_Info[\"Qualification\"]\n",
    "print(\"Now checking after deleting the Qualification Key : \"+str(personal_Info))"
   ]
  },
  {
   "cell_type": "code",
   "execution_count": 2,
   "metadata": {},
   "outputs": [
    {
     "name": "stdout",
     "output_type": "stream",
     "text": [
      "dict_keys(['Karachi', 'Lahore', 'Islamabad'])\n",
      "{'city': 'Karachi', 'Country': 'Pakistan', 'Population': '14.9 million', 'Fact': 'Karachi is also known as City of Lights.'}\n",
      "{'city': 'Lahore', 'Country': 'Pakistan', 'Population': '11.13 million', 'Fact': \"Lahore is known as the 'City of Gardens' because of its many parks and gardens.\"}\n",
      "{'city': 'Islamabad', 'Country': 'Pakistan', 'Population': '1.015 million', 'Fact': 'Islamabad city is famous due to the many parks, forests, greenery, breathtaking sites, safety, high living standard, world fourth largest mosque and the Margalla Hills National park.'}\n"
     ]
    }
   ],
   "source": [
    "#Question2:\n",
    "#Make a dictionary called cities. Use the names of three cities as keys in your dictionary. Create a\n",
    "#dictionary of information about each city and include the country that the city is in, its approximate\n",
    "#population, and one fact about that city. The keys for each city’s dictionary should be something like\n",
    "#country, population, and fact. Print the name of each city and all of the information you have stored\n",
    "#about it.\n",
    "\n",
    "cities={\n",
    "        \"Karachi\":{\n",
    "                   \"city\":\"Karachi\",\n",
    "                   \"Country\":\"Pakistan\",\n",
    "                   \"Population\":\"14.9 million\",\n",
    "                   \"Fact\":\"Karachi is also known as City of Lights.\"\n",
    "              },\n",
    "        \"Lahore\":{\n",
    "                  \"city\":\"Lahore\",\n",
    "                  \"Country\":\"Pakistan\",\n",
    "                  \"Population\":\"11.13 million\",\n",
    "                  \"Fact\":\"Lahore is known as the 'City of Gardens' because of its many parks and gardens.\"\n",
    "              },\n",
    "        \"Islamabad\":{\n",
    "                     \"city\":\"Islamabad\",\n",
    "                     \"Country\":\"Pakistan\",\n",
    "                     \"Population\":\"1.015 million\",\n",
    "                     \"Fact\":\"Islamabad city is famous due to the many parks, forests, greenery, breathtaking sites, safety, high living standard, world fourth largest mosque and the Margalla Hills National park.\"\n",
    "              }\n",
    "}\n",
    "print(cities.keys())\n",
    "print(cities[\"Karachi\"])\n",
    "print(cities[\"Lahore\"])\n",
    "print(cities[\"Islamabad\"])"
   ]
  },
  {
   "cell_type": "code",
   "execution_count": 3,
   "metadata": {},
   "outputs": [
    {
     "name": "stdout",
     "output_type": "stream",
     "text": [
      "Enter Your Age: 5\n",
      "Ticket Price is $10\n",
      "Enter Your Age: 2\n",
      "Ticket is Free\n",
      "Enter Your Age: 16\n",
      "Ticket Price is $15\n",
      "Enter Your Age: 34\n",
      "Ticket Price is $15\n",
      "Enter Your Age: 1\n",
      "Ticket is Free\n",
      "Enter Your Age: 10\n",
      "Ticket Price is $10\n"
     ]
    }
   ],
   "source": [
    "#Question3:\n",
    "#A movie theater charges different ticket prices depending on a person’s age. If a person is under the age\n",
    "#of 3, the ticket is free; if they are between 3 and 12, the ticket is $10; and if they are over age 12, the\n",
    "#ticket is $15. Write a loop in which you ask users their age, and then tell them the cost of their movie\n",
    "#ticket.\n",
    "\n",
    "for i in range(1,7):\n",
    "    age=int(input(\"Enter Your Age: \"))\n",
    "    if age >=0 and age <=3:\n",
    "        print(\"Ticket is Free\")\n",
    "    elif age>3 and age<=12:\n",
    "        print(\"Ticket Price is $10\")\n",
    "    elif age>12:\n",
    "        print(\"Ticket Price is $15\")"
   ]
  },
  {
   "cell_type": "code",
   "execution_count": 4,
   "metadata": {},
   "outputs": [
    {
     "name": "stdout",
     "output_type": "stream",
     "text": [
      "Calculus Howard Anton is my favourite book\n"
     ]
    }
   ],
   "source": [
    "#Question4:\n",
    "#Write a function called favorite_book() that accepts one parameter, title. The function should print a\n",
    "#message, such as One of my favorite books is Alice in Wonderland. Call the function, making sure to\n",
    "#include a book title as an argument in the function call.\n",
    "\n",
    "def favorite_book(Book_title):\n",
    "    print(Book_title+\" is my favourite book\")\n",
    "\n",
    "favorite_book(\"Calculus Howard Anton\")"
   ]
  },
  {
   "cell_type": "code",
   "execution_count": 6,
   "metadata": {},
   "outputs": [
    {
     "name": "stdout",
     "output_type": "stream",
     "text": [
      "Guess the number you have three chances\n",
      "Hint: Number is in between 1 to 30: \n",
      "Enter Your Number: 5\n",
      "Try Again\n",
      "Enter Your Number: 12\n",
      "You Guess The Correct Number\n"
     ]
    }
   ],
   "source": [
    "#Question5:\n",
    "#Guess the number game\n",
    "#Write a program which randomly generate a number between 1 to 30 and ask the user in input field to\n",
    "#guess the correct number. Give three chances to user guess the number and also give hint to user if\n",
    "#hidden number is greater or smaller than the number he given to input field.\n",
    "\n",
    "print(\"Guess the number you have three chances\")\n",
    "print(\"Hint: Number is in between 1 to 30: \")\n",
    "random_no=12;\n",
    "for i in range(1,4):\n",
    "    number=int(input(\"Enter Your Number: \"))\n",
    "    if number == random_no:\n",
    "        print(\"You Guess The Correct Number\")\n",
    "        break\n",
    "    else:\n",
    "        print(\"Try Again\")\n"
   ]
  },
  {
   "cell_type": "code",
   "execution_count": null,
   "metadata": {},
   "outputs": [],
   "source": []
  }
 ],
 "metadata": {
  "kernelspec": {
   "display_name": "Python 3",
   "language": "python",
   "name": "python3"
  },
  "language_info": {
   "codemirror_mode": {
    "name": "ipython",
    "version": 3
   },
   "file_extension": ".py",
   "mimetype": "text/x-python",
   "name": "python",
   "nbconvert_exporter": "python",
   "pygments_lexer": "ipython3",
   "version": "3.7.4"
  }
 },
 "nbformat": 4,
 "nbformat_minor": 2
}
