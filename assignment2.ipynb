{
 "cells": [
  {
   "cell_type": "code",
   "execution_count": 2,
   "metadata": {},
   "outputs": [
    {
     "name": "stdout",
     "output_type": "stream",
     "text": [
      "40\n"
     ]
    }
   ],
   "source": [
    "#4. Write a Python program to sum all the numeric items in a list?\n",
    "arr=[12,13,4,5,6]\n",
    "total=0;\n",
    "for i in range (len(arr)):\n",
    "    total=total+arr[i];\n",
    "print(total)\n",
    "    "
   ]
  },
  {
   "cell_type": "code",
   "execution_count": 4,
   "metadata": {},
   "outputs": [
    {
     "name": "stdout",
     "output_type": "stream",
     "text": [
      "Largest Value is 45\n"
     ]
    }
   ],
   "source": [
    "#5. Write a Python program to get the largest number from a numeric list.\n",
    "arr1=[12,3,45,6,7,8]\n",
    "largest_Value=arr1[0]\n",
    "for i in range(len(arr1)):\n",
    "    if arr1[i]>=largest_Value:\n",
    "        largest_Value=arr1[i];\n",
    "print(\"Largest Value is \"+str(largest_Value))\n"
   ]
  },
  {
   "cell_type": "code",
   "execution_count": 7,
   "metadata": {},
   "outputs": [
    {
     "name": "stdout",
     "output_type": "stream",
     "text": [
      "Position 0 = 2\n",
      "Position 3 = 3\n",
      "Position 4 = 4\n",
      "Position 5 = 2\n",
      "Position 6 = 1\n"
     ]
    }
   ],
   "source": [
    "#Take a list, say for example this one:\n",
    "# a = [1, 1, 2, 3, 5, 8, 13, 21, 34, 55, 89]\n",
    "#and write a program that prints out all the elements of the list that are\n",
    "#less than 5.\n",
    "a=[2,6,8,3,4,2,1]\n",
    "for i in range (len(a)):\n",
    "    if a[i]<5:\n",
    "        print(\"Position \"+str(i)+\" = \"+str(a[i]));\n"
   ]
  },
  {
   "cell_type": "code",
   "execution_count": 9,
   "metadata": {},
   "outputs": [
    {
     "name": "stdout",
     "output_type": "stream",
     "text": [
      "Enter Marks 1: 68\n",
      "Enter Marks 2: 79\n",
      "Enter Marks 3: 81\n",
      "Enter Marks 4: 76\n",
      "Enter Marks 5: 75\n",
      "Marks Obtained = 379\n",
      "Percentage = 75.8\n",
      "Grade = A\n"
     ]
    }
   ],
   "source": [
    "\n",
    "#Write a program which takes 5 inputs from user for different subject’s\n",
    "#marks, total it and generate mark sheet using grades ?\n",
    "math =int(input(\"Enter Marks 1: \"))\n",
    "physics=int(input(\"Enter Marks 2: \"))\n",
    "chemistry =int(input(\"Enter Marks 3: \"))\n",
    "computer=int(input(\"Enter Marks 4: \"))\n",
    "english=int(input(\"Enter Marks 5: \"))\n",
    "obtain_Marks=(math+physics+chemistry+computer+english)\n",
    "print(\"Marks Obtained = \"+str(obtain_Marks))\n",
    "total_Marks=500\n",
    "per=(obtain_Marks*100)/total_Marks\n",
    "print(\"Percentage = \"+str(per))\n",
    "if per >= 80 and per <= 100:\n",
    "    print(\"Grade = A+\")\n",
    "elif per >=70 and per < 80 :\n",
    "    print(\"Grade = A\")\n",
    "elif per >=60 and per < 70 :\n",
    "    print(\"Grade = B\")\n",
    "elif per >=50 and per < 60 :\n",
    "    print(\"Grade = C\")\n",
    "elif per >=40 and per < 60 :\n",
    "    print(\"Grade = D\")\n",
    "elif per >=33 and per < 40 :\n",
    "    print(\"Grade = E\")\n",
    "elif per >=0 and per < 33 :\n",
    "    print(\"Fail\")\n",
    "else :\n",
    "    print(\"You have given inappropriate %\")"
   ]
  },
  {
   "cell_type": "code",
   "execution_count": 11,
   "metadata": {},
   "outputs": [
    {
     "name": "stdout",
     "output_type": "stream",
     "text": [
      "Enter a Number: 9\n",
      "Number is Odd\n"
     ]
    }
   ],
   "source": [
    "#2. Write a program which take input from user and identify that the given\n",
    "#number is even or odd?\n",
    "number=int(input(\"Enter a Number: \"))\n",
    "if number%2==0 :\n",
    "    {\n",
    "        print(\"Number is Even\")\n",
    "    }\n",
    "else :\n",
    "    {\n",
    "        print(\"Number is Odd\")\n",
    "    }"
   ]
  },
  {
   "cell_type": "code",
   "execution_count": 12,
   "metadata": {},
   "outputs": [
    {
     "name": "stdout",
     "output_type": "stream",
     "text": [
      "List Length is 4\n"
     ]
    }
   ],
   "source": [
    "#Write a program which print the length of the list?\n",
    "arr=[\"Ahmed\",12,False,\"Ali\"]\n",
    "print(\"List Length is \"+str(len(arr)))"
   ]
  },
  {
   "cell_type": "code",
   "execution_count": null,
   "metadata": {},
   "outputs": [],
   "source": []
  }
 ],
 "metadata": {
  "kernelspec": {
   "display_name": "Python 3",
   "language": "python",
   "name": "python3"
  },
  "language_info": {
   "codemirror_mode": {
    "name": "ipython",
    "version": 3
   },
   "file_extension": ".py",
   "mimetype": "text/x-python",
   "name": "python",
   "nbconvert_exporter": "python",
   "pygments_lexer": "ipython3",
   "version": "3.7.4"
  }
 },
 "nbformat": 4,
 "nbformat_minor": 2
}
