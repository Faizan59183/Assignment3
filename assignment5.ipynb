{
 "cells": [
  {
   "cell_type": "code",
   "execution_count": 2,
   "metadata": {},
   "outputs": [
    {
     "name": "stdout",
     "output_type": "stream",
     "text": [
      "Kashif has Uppercase character = 1 and Lowercase character = 5\n",
      "FAiZAn has Uppercase character = 4 and Lowercase character = 2\n"
     ]
    }
   ],
   "source": [
    "#Question:2\n",
    "#Write a Python function that accepts a string and calculate the number of upper\n",
    "#case letters and lower case letters.\n",
    "def split(word):\n",
    "    up_Case=0\n",
    "    lo_Case=0\n",
    "    for i in word:  \n",
    "        if i>='A' and i<='Z':\n",
    "            up_Case=up_Case+1\n",
    "        elif i>='a'and i<='z':\n",
    "            lo_Case=lo_Case+1\n",
    "    \n",
    "    print(\"{} has Uppercase character = {} and Lowercase character = {}\".format(word,up_Case,lo_Case))\n",
    "    \n",
    "\n",
    "split(\"Kashif\")\n",
    "split(\"FAiZAn\")"
   ]
  },
  {
   "cell_type": "code",
   "execution_count": 3,
   "metadata": {},
   "outputs": [
    {
     "name": "stdout",
     "output_type": "stream",
     "text": [
      "Even no : 4\n",
      "Even no : 6\n",
      "Even no : 14\n"
     ]
    }
   ],
   "source": [
    "#Question:3\n",
    "#Write a Python function to print the even numbers from a given list.\n",
    "\n",
    "def even(list1):\n",
    "    for i in list1:\n",
    "        if i%2==0:\n",
    "            print(\"Even no : \"+str(i))\n",
    "            \n",
    "numbersList=[23,4,6,5,14]\n",
    "even(numbersList)"
   ]
  },
  {
   "cell_type": "code",
   "execution_count": 4,
   "metadata": {},
   "outputs": [
    {
     "name": "stdout",
     "output_type": "stream",
     "text": [
      "It is a Palindrome\n",
      "It is not a Palindrome\n"
     ]
    }
   ],
   "source": [
    "#Question:4\n",
    "#Write a Python function that checks whether a passed string is palindrome or not.\n",
    "#Note: A palindrome is a word, phrase, or sequence that reads the same\n",
    "#backward as forward, e.g., madam\n",
    "\n",
    "def palindrome(word):\n",
    "    rword=\"\"\n",
    "    for i in word:\n",
    "        rword=i+rword\n",
    "    if word==rword:\n",
    "        print(\"It is a Palindrome\")\n",
    "    else:\n",
    "        print(\"It is not a Palindrome\")\n",
    "\n",
    "palindrome(\"madam\")\n",
    "palindrome(\"sir\")"
   ]
  },
  {
   "cell_type": "code",
   "execution_count": 6,
   "metadata": {},
   "outputs": [
    {
     "name": "stdout",
     "output_type": "stream",
     "text": [
      "The factorial of 7 is 5040\n",
      "The factorial of 1 is 1\n",
      "The factorial of 0 is 1\n",
      "The factorial of 0 is 1\n"
     ]
    }
   ],
   "source": [
    "#Question:1\n",
    "#Write a Python function to calculate the factorial of a number (a non-negative\n",
    "#integer). The function accepts the number as an argument.\n",
    "\n",
    "def factorial(num):\n",
    "    a = 1\n",
    "\n",
    "    if num < 0:\n",
    "        print(\"Factotal not exist for negative numbers\")\n",
    "    elif num == 0:\n",
    "        print(\"The factorial of 0 is 1\")\n",
    "    else:\n",
    "        for i in range(1,num + 1):\n",
    "            a = a*i\n",
    "    print(\"The factorial of\",num,\"is\",a)\n",
    "\n",
    "factorial(7)\n",
    "factorial(1)\n",
    "factorial(0)"
   ]
  },
  {
   "cell_type": "code",
   "execution_count": 7,
   "metadata": {},
   "outputs": [
    {
     "name": "stdout",
     "output_type": "stream",
     "text": [
      "7 is a prime number\n",
      "4 is not a prime number\n",
      "15 is not a prime number\n",
      "47 is a prime number\n"
     ]
    }
   ],
   "source": [
    "#Question:5\n",
    "#Write a Python function that takes a number as a parameter and check the\n",
    "#number is prime or not.\n",
    "\n",
    "def isPrime(num):\n",
    "    if num > 1:       \n",
    "        for i in range(2,num):  \n",
    "            if (num % i) == 0:  \n",
    "                print(num,\"is not a prime number\")                   \n",
    "                break  \n",
    "        else:  \n",
    "            print(num,\"is a prime number\")  \n",
    "         \n",
    "    else:  \n",
    "        print(num,\"is not a prime number\")\n",
    "        \n",
    "isPrime(7)\n",
    "isPrime(4)\n",
    "isPrime(15)\n",
    "isPrime(47)"
   ]
  },
  {
   "cell_type": "code",
   "execution_count": 10,
   "metadata": {},
   "outputs": [
    {
     "name": "stdout",
     "output_type": "stream",
     "text": [
      "-> Milk\n",
      "-> Egg\n",
      "-> Chips\n",
      "-> Washing Powder\n"
     ]
    }
   ],
   "source": [
    "#Question: 6\n",
    "#Suppose a customer is shopping in a market and you need to print all the items\n",
    "#which user bought from market.\n",
    "#Write a function which accepts the multiple arguments of user shopping list and\n",
    "#print all the items which user bought from market.\n",
    "#(Hint: Arbitrary Argument concept can make this task ease)\n",
    "\n",
    "def items(*shopping):\n",
    "    for item in shopping:\n",
    "        print(\"-> \"+item)\n",
    "        \n",
    "items(\"Milk\",\"Egg\",\"Chips\",\"Washing Powder\")"
   ]
  },
  {
   "cell_type": "code",
   "execution_count": null,
   "metadata": {},
   "outputs": [],
   "source": []
  }
 ],
 "metadata": {
  "kernelspec": {
   "display_name": "Python 3",
   "language": "python",
   "name": "python3"
  },
  "language_info": {
   "codemirror_mode": {
    "name": "ipython",
    "version": 3
   },
   "file_extension": ".py",
   "mimetype": "text/x-python",
   "name": "python",
   "nbconvert_exporter": "python",
   "pygments_lexer": "ipython3",
   "version": "3.7.4"
  }
 },
 "nbformat": 4,
 "nbformat_minor": 2
}
